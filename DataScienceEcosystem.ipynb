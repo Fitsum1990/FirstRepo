{
 "cells": [
  {
   "cell_type": "markdown",
   "id": "1e4d9e0b",
   "metadata": {},
   "source": [
    "# Data Science Tools and Ecosystem"
   ]
  },
  {
   "cell_type": "markdown",
   "id": "defe3d93",
   "metadata": {},
   "source": [
    "In this notebook, Data Science Tools and Ecosystem are summarized."
   ]
  },
  {
   "cell_type": "markdown",
   "id": "ad1e1ed7",
   "metadata": {},
   "source": [
    "# Objectives:\n",
    "* List popular languages in data Science\n",
    "* List commonly used libraries used by data Scientists\n",
    "* List the Data Science tools\n",
    "* Give few examples of evaluating arithmetic expressions in Python\n"
   ]
  },
  {
   "cell_type": "markdown",
   "id": "54aad061",
   "metadata": {},
   "source": [
    "Some of the popular languages that Data Scientists use are:\n",
    "1. Python\n",
    "2. R programming\n",
    "3. SQL\n",
    "4. Java\n",
    "5. C++"
   ]
  },
  {
   "cell_type": "markdown",
   "id": "4dca4d8f",
   "metadata": {},
   "source": [
    "Some of the commonly used libraries used by Data Scientists include:\n",
    "1. Pandas, Numpy, Matplotlib, Seaborn and Scikit-learn in python\n",
    "2. Vegas and Big DL in Scala\n",
    "3. ggplot2 is R"
   ]
  },
  {
   "cell_type": "markdown",
   "id": "ee6aa289",
   "metadata": {},
   "source": [
    " Data Science Tools\n",
    "----------------------------\n",
    " Jupyter Notebook\n",
    " Rstudio\n",
    " Apache Zeppelin"
   ]
  },
  {
   "cell_type": "markdown",
   "id": "6ca3d73f",
   "metadata": {},
   "source": [
    "### Below are a few examples of evaluating arithmetic expressions in Python"
   ]
  },
  {
   "cell_type": "code",
   "execution_count": 1,
   "id": "f27921e2",
   "metadata": {},
   "outputs": [
    {
     "data": {
      "text/plain": [
       "17"
      ]
     },
     "execution_count": 1,
     "metadata": {},
     "output_type": "execute_result"
    }
   ],
   "source": [
    "# This a simple arithmetic expression to mutiply then add integers\n",
    "(3*4)+5"
   ]
  },
  {
   "cell_type": "code",
   "execution_count": 8,
   "id": "4bc6009f",
   "metadata": {},
   "outputs": [
    {
     "name": "stdout",
     "output_type": "stream",
     "text": [
      "3.3333333333333335\n"
     ]
    }
   ],
   "source": [
    "# This will convert 200 minutes to hours by diving by 60\n",
    "minutes = 200\n",
    "hr = minutes/60\n",
    "minutes = 200\n",
    "print(hr)"
   ]
  },
  {
   "cell_type": "markdown",
   "id": "d396fbf2",
   "metadata": {},
   "source": [
    "##  Author\n",
    "Fitsum Woldegerima Beyene"
   ]
  },
  {
   "cell_type": "code",
   "execution_count": null,
   "id": "30c7599e",
   "metadata": {},
   "outputs": [],
   "source": []
  }
 ],
 "metadata": {
  "kernelspec": {
   "display_name": "Python 3 (ipykernel)",
   "language": "python",
   "name": "python3"
  },
  "language_info": {
   "codemirror_mode": {
    "name": "ipython",
    "version": 3
   },
   "file_extension": ".py",
   "mimetype": "text/x-python",
   "name": "python",
   "nbconvert_exporter": "python",
   "pygments_lexer": "ipython3",
   "version": "3.11.5"
  }
 },
 "nbformat": 4,
 "nbformat_minor": 5
}
